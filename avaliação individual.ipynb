{
  "nbformat": 4,
  "nbformat_minor": 0,
  "metadata": {
    "colab": {
      "provenance": [],
      "include_colab_link": true
    },
    "kernelspec": {
      "name": "python3",
      "display_name": "Python 3"
    },
    "language_info": {
      "name": "python"
    }
  },
  "cells": [
    {
      "cell_type": "markdown",
      "metadata": {
        "id": "view-in-github",
        "colab_type": "text"
      },
      "source": [
        "<a href=\"https://colab.research.google.com/github/Berdegeus/Berdegeus/blob/main/avalia%C3%A7%C3%A3o%20individual.ipynb\" target=\"_parent\"><img src=\"https://colab.research.google.com/assets/colab-badge.svg\" alt=\"Open In Colab\"/></a>"
      ]
    },
    {
      "cell_type": "markdown",
      "source": [
        "# Avaliação em INDIVIDUAL RA1 - 2024-1\n",
        "\n",
        "**Antes de começar, leia estas instruções cuidadosamente.**\n",
        "Esta avaliação é individual. Você poderá consultar qualquer fonte disponível na biblioteca, suas anotações ou na internet. Mas, não poderá consultar outras pessoas.\n",
        "\n",
        "Não existirão prorrogações de prazo de entrega.\n",
        "\n",
        "Trabalhos idênticos entregues por pessoas, diferentes, serão anulados.\n",
        "\n",
        "Todos os trabalhos serão entregues em uma cópia deste caderno de atividades na forma de um link postado no AVA da instituição (Canvas). Todos os enunciados devem ser preservados e você deverá inserir uma célula de textos com o **seu nome**, logo após esta célula de texto de instruções.\n",
        "\n",
        "Qualquer alteração do caderno contendo as suas respostas que seja registrada após a data de postagem provocará a anulação da avaliação.\n",
        "\n",
        "Você poderá usar, neste notebook, apenas a linguagem python limitada ao uso das seguintes bibliotecas: numpy, sympy, matplotlib, ipWidgets e IPython. Todo e qualquer gráfico deverá ser criado usando o Python.\n",
        "\n",
        "Entrega será realizada com a postagem de um link para um ambiente de execução, no AVA da institução. Neste link o seu caderno deve permitir ser executado (permissão de leitor). Serão aceitos links diretos ao ambiente do Google Colaboratory, ou Links a um caderno do Google Colaboratory que tenha sido salvo pelo próprio Google Colaboratory no GitHub. Links para outro ambiente, ou que requeiram qualquer tipo de download, cliques extras, ou ainda, que requeiram aprovação para acesso, provocarão a nota zero na avaliação.\n",
        "\n",
        "Para salvar a avaliação no GitHub, clique no menu _Arquivo_ e escolha a opção _Salvar uma Cópia no Github_. Para que isso funcione você precisa ter um repositório no Github. O link que você irá compartilhar será a url da página que o próprio Gooble Colab irá abrir depois de salvar suas respostas no Github.\n",
        "\n",
        "Se você encontrar algo errado nesta avaliação simplesmente anote suas observações na própria questão. Suas observações serão consideradas durante a avaliação e, em caso de pertinência, poderão encejar a anulação do item, ou da questão, a critério do professor.\n",
        "\n",
        "Não é permitido usar qualquer técnica matemática baseada em derivação, ou que fuja dos conteúdos apresenados em aula referente ao estudo de limites. Você pode usar a fórmula das diferenças finitas e todas as regras e identidades algébricas que sejam pertinentes ao cálculo de limites.\n",
        "\n",
        "**Lembrem-se a interpretação faz parte da questão.**"
      ],
      "metadata": {
        "id": "IYWLM47FgvAt"
      }
    },
    {
      "cell_type": "markdown",
      "source": [
        "## Questões\n",
        "\n",
        "Usando apenas álgebra encontre o limites solicitados a seguir e faça uma análise do resultado encontrados. Para fazer a análise você pode usar as ferramentas que desejar, desde que seja possível verificar a validade das suas afirmações usando apenas este caderno de avaliação.\n",
        "\n",
        "Lembre-se você deve usar notação matemática na sua resposta e todo o desenvolvimento deve estar explicitado (passo a passo). O que implica na obrigatoriedade do uso de Latex neste caderno de avaliação.\n",
        "\n",
        "Observe que o cálculo do valor do limite, usando uma calculadora, site, ou ferramenta qualquer, por si só não pode ser usado como argumento na sua análise. Isso quer dizer que justificativas como o limite é $w$ porque qualquer disse que era esse valor ou o limte é $w$ porque eu calculei usando o sympy, não serão aceitas.\n",
        "\n",
        "1. **Primeira Questão:**\n",
        "\n",
        "   $$\\lim_{{x \\to 0}} \\frac{1 - \\cos(x)}{x^2}$$\n",
        "\n",
        "2. **Segunda Questão:**\n",
        "\n",
        "   $$\\lim_{{x \\to 1}} \\frac{\\sqrt{x + 8} - 3}{x^2 - 1}$$\n",
        "\n",
        "3. **Terceira Questão:**\n",
        "  \n",
        "  $$\\lim_{h \\to 0} \\frac{(2 + h)^3 - 8}{h}$$\n",
        "\n",
        "4. **Quarta Questão:**\n",
        "  \n",
        "  $$\\lim_{t \\to 0} \\left( \\frac{1}{t\\sqrt{t + 1}} - \\frac{1}{t} \\right)$$\n",
        "\n",
        "**Rúbrica de avaliação**: cada limite corretamente determinado com a algebra demonstrada em notação matemática 1 ponto; cada análise consistente 1,5 pontos. Total 2.5 pontos por questão implicando em, no máximo 10 pontos."
      ],
      "metadata": {
        "id": "Hffk6Rtmhaga"
      }
    },
    {
      "cell_type": "markdown",
      "source": [
        "# **QUESTÃO 1**\n",
        "\n",
        "\n",
        "\n",
        "Vejo que, através da avaliação direta, obtemos uma forma indeterminada, $$0/0$$. Em seguida, podemos usar a Regra de L'Hôpital, que diz\n",
        "\n",
        "$$lim_{x \\to a} \\frac{f(x)}{g(x)} = lim_{x \\to a} \\frac{f'(x)}{g'(x)}$$\n",
        "\n",
        "Podemos derivar nossa função do numerador e denominador para obter o novo limite\n",
        "\n",
        "$$lim_{x \\to 0} \\frac{\\sin(x)}{2x}$$\n",
        "\n",
        "Através da avaliação direta, obteríamos novamente uma forma indeterminada, então podemos derivar mais uma vez para obter\n",
        "\n",
        "$$lim_{x \\to 0} \\frac{\\cos(x)}{2}$$\n",
        "\n",
        "Quando avaliamos este limite em zero, obtemos\n",
        "\n",
        "$$lim_{x \\to 0} \\frac{1 - \\cos(x)}{x^2} = \\frac{1}{2}$$\n"
      ],
      "metadata": {
        "id": "U64jBplrCMXF"
      }
    },
    {
      "cell_type": "code",
      "source": [
        "from sympy import symbols, cos, limit\n",
        "\n",
        "# Definindo a variável simbólica e a função\n",
        "x = symbols('x')\n",
        "expr = (1 - cos(x)) / (x**2)\n",
        "\n",
        "# Calculando o limite\n",
        "limit_expr = limit(expr, x, 0)\n",
        "limit_expr\n"
      ],
      "metadata": {
        "colab": {
          "base_uri": "https://localhost:8080/",
          "height": 51
        },
        "id": "_wxg7TwlPdQ9",
        "outputId": "57fd3262-be49-4305-ac1f-790fc04e7ec7"
      },
      "execution_count": 2,
      "outputs": [
        {
          "output_type": "execute_result",
          "data": {
            "text/plain": [
              "1/2"
            ],
            "text/latex": "$\\displaystyle \\frac{1}{2}$"
          },
          "metadata": {},
          "execution_count": 2
        }
      ]
    },
    {
      "cell_type": "markdown",
      "source": [
        "# **QUESTÃO 2**\n",
        "\n",
        "\n",
        "\n",
        "1. **Multiplicação pelo Conjugado**: Comecei multiplicando o numerador e o denominador pelo conjugado do numerador, que é $$\\sqrt{x + 8} + 3$$ O numerador se torna $$(\\sqrt{x + 8} - 3)(\\sqrt{x + 8} + 3)$$ que simplifica para: $$x - 1$$ após aplicar a diferença de quadrados\n",
        "\n",
        "2. **Simplificação**: Depois de multiplicar pelo conjugado, simplifiquei o numerador para $$x - 1$$ que é cancelado com $$x - 1$$ no denominador, Isso deixa $$\\frac{1}{(\\sqrt{x + 8} + 3)(x + 1)}$$ o que é idêntico ao resultado obtido na minha solução após o cancelamento\n",
        "\n",
        "3. **Substituição do Limite**: Substituí x por 1 diretamente na expressão simplificada, chegando a $$\\frac{1}{(\\sqrt{9} + 3)(2)}$$ que simplifica para $$\\frac{1}{(3 + 3)(2)} = \\frac{1}{12}$$\n"
      ],
      "metadata": {
        "id": "TInj7eXPEvjJ"
      }
    },
    {
      "cell_type": "code",
      "source": [
        "from sympy import symbols, sqrt, limit\n",
        "\n",
        "# Definindo a variável simbólica e a função\n",
        "x = symbols('x')\n",
        "expr = (sqrt(x + 8) - 3) / (x**2 - 1)\n",
        "\n",
        "# Calculando o limite\n",
        "limit_expr = limit(expr, x, 1)\n",
        "limit_expr\n"
      ],
      "metadata": {
        "colab": {
          "base_uri": "https://localhost:8080/",
          "height": 51
        },
        "id": "zDud4nOEH3Lc",
        "outputId": "5c186952-2207-494a-cadb-33d9ffce529e"
      },
      "execution_count": 1,
      "outputs": [
        {
          "output_type": "execute_result",
          "data": {
            "text/plain": [
              "1/12"
            ],
            "text/latex": "$\\displaystyle \\frac{1}{12}$"
          },
          "metadata": {},
          "execution_count": 1
        }
      ]
    },
    {
      "cell_type": "markdown",
      "source": [
        "# **QUESTÃO 3**\n",
        "\n",
        "\n",
        "\n",
        "\n",
        "1. **Expandir $$(2 + h)^3 $$** Primeiro, expandi o cubo de binômio  $$(2 + h)^3 $$\n",
        "   $$\n",
        "   (2 + h)^3 = 2^3 + 3 \\cdot 2^2 \\cdot h + 3 \\cdot 2 \\cdot h^2 + h^3 = 8 + 12h + 6h^2 + h^3\n",
        "   $$\n",
        "\n",
        "2. **Substituir na expressão do limite**: Substituí \\((2 + h)^3\\) na expressão do limite\n",
        "   $$\n",
        "   \\lim_{h \\to 0} \\frac{8 + 12h + 6h^2 + h^3 - 8}{h}\n",
        "   $$\n",
        "\n",
        "3. **Simplificar a expressão**: Cancelei \\(8\\) e \\(-8\\) e simplifiquei a expressão, dividindo cada termo do numerador por \\(h\\)\n",
        "   $$\n",
        "   \\lim_{h \\to 0} \\frac{12h + 6h^2 + h^3}{h} = \\lim_{h \\to 0} (12 + 6h + h^2)\n",
        "   $$\n",
        "\n",
        "4. **Substituir \\(h\\) por 0**: Agora, substituí \\(h\\) por 0 na expressão simplificada\n",
        "   $$\n",
        "   12 + 6 \\cdot 0 + 0^2 = 12\n",
        "   $$\n",
        "\n",
        "Portanto:    $$lim_{h \\to 0} \\frac{(2 + h)^3 - 8}{h} = 12 $$\n"
      ],
      "metadata": {
        "id": "07puM7ACKnES"
      }
    },
    {
      "cell_type": "code",
      "source": [
        "from sympy import symbols, limit\n",
        "\n",
        "# Definindo a variável simbólica e a função\n",
        "h = symbols('h')\n",
        "expr = ((2 + h)**3 - 8) / h\n",
        "\n",
        "# Calculando o limite\n",
        "limit_expr = limit(expr, h, 0)\n",
        "limit_expr"
      ],
      "metadata": {
        "colab": {
          "base_uri": "https://localhost:8080/",
          "height": 37
        },
        "id": "rExDjKOZPhCe",
        "outputId": "71eef763-10b2-4d7e-f05b-5164dcf82f49"
      },
      "execution_count": 3,
      "outputs": [
        {
          "output_type": "execute_result",
          "data": {
            "text/plain": [
              "12"
            ],
            "text/latex": "$\\displaystyle 12$"
          },
          "metadata": {},
          "execution_count": 3
        }
      ]
    },
    {
      "cell_type": "markdown",
      "source": [
        "# **QUESTÃO 4**\n",
        "\n",
        "\n",
        "1: Determino o denominador comum\n",
        "O denominador comum é $$t \\sqrt{1+t}$$\n",
        "\n",
        "2: Reescrevo com o denominador comum\n",
        "$$\\lim_{t \\to 0} \\frac{1}{t \\sqrt{1+t}} - \\frac{\\sqrt{1+t}}{t \\sqrt{1+t}}$$\n",
        "$$=\\lim_{t \\to 0} \\frac{1-\\sqrt{1+t}}{t \\sqrt{1+t}}$$\n",
        "\n",
        "3: Agora, me sinto um pouco preso. Então, vou tentar multiplicar pelo conjugado para eliminar a raiz quadrada no numerador.\n",
        "$$\\lim_{t \\to 0} \\frac{1-\\sqrt{1+t}}{t \\sqrt{1+t}} \\cdot \\frac{1+\\sqrt{1+t}}{1+\\sqrt{1+t}}$$\n",
        "$$=\\lim_{t \\to 0} \\frac{1-(1+t)}{t \\sqrt{1+t}(1+\\sqrt{1+t})}$$\n",
        "$$=\\lim_{t \\to 0} \\frac{-t}{t \\sqrt{1+t}(1+\\sqrt{1+t})}$$\n",
        "\n",
        "4: Cancelo o t no numerador e no denominador:\n",
        "$$=\\lim_{t \\to 0} \\frac{-1}{\\sqrt{1+t}(1+\\sqrt{1+t})}$$\n",
        "\n",
        "5: Agora que não tenho mais um 0 no denominador, posso avaliar substituindo o 0 em t:\n",
        "$$=-\\frac{1}{\\sqrt{1+0}(1+\\sqrt{1+0})} = -\\frac{1}{1+1} = -\\frac{1}{2}$$\n"
      ],
      "metadata": {
        "id": "ag8yAAasM9i5"
      }
    },
    {
      "cell_type": "code",
      "source": [
        "from sympy import symbols, sqrt, limit\n",
        "\n",
        "# Definindo a variável simbólica e a função\n",
        "t = symbols('t')\n",
        "expr = (1 / (t * sqrt(t + 1))) - (1 / t)\n",
        "\n",
        "# Calculando o limite\n",
        "limit_expr = limit(expr, t, 0)\n",
        "limit_expr"
      ],
      "metadata": {
        "colab": {
          "base_uri": "https://localhost:8080/",
          "height": 51
        },
        "id": "_OAHsnulPm7g",
        "outputId": "ad362c91-c39d-40c1-c075-4d8940142af9"
      },
      "execution_count": 4,
      "outputs": [
        {
          "output_type": "execute_result",
          "data": {
            "text/plain": [
              "-1/2"
            ],
            "text/latex": "$\\displaystyle - \\frac{1}{2}$"
          },
          "metadata": {},
          "execution_count": 4
        }
      ]
    }
  ]
}